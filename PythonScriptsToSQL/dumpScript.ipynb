{
 "cells": [
  {
   "cell_type": "code",
   "execution_count": 66,
   "metadata": {},
   "outputs": [],
   "source": [
    "import pymysql\n",
    "import pandas as pd \n",
    "import getpass \n",
    "import csv "
   ]
  },
  {
   "cell_type": "code",
   "execution_count": 3,
   "metadata": {},
   "outputs": [
    {
     "name": "stdout",
     "output_type": "stream",
     "text": [
      "········\n"
     ]
    }
   ],
   "source": [
    "p = getpass.getpass() "
   ]
  },
  {
   "cell_type": "code",
   "execution_count": 4,
   "metadata": {},
   "outputs": [],
   "source": [
    "connection = pymysql.connect(host='localhost',\n",
    "                             user='root',\n",
    "                             password=p,\n",
    "                             db='db_menu') "
   ]
  },
  {
   "cell_type": "code",
   "execution_count": 5,
   "metadata": {},
   "outputs": [],
   "source": [
    "cursor = connection.cursor() "
   ]
  },
  {
   "cell_type": "code",
   "execution_count": 6,
   "metadata": {},
   "outputs": [],
   "source": [
    "def readFile(file): \n",
    "    directory = \"C:/Users/tiago/desktop/blogdown/dataBases/modelData/\" \n",
    "    csvData = pd.read_csv(directory + file + \".csv\")\n",
    "    return csvData.where(pd.notnull(csvData), None) "
   ]
  },
  {
   "cell_type": "code",
   "execution_count": 7,
   "metadata": {},
   "outputs": [],
   "source": [
    "currency = readFile(\"currencyId\")\n",
    "dish = readFile(\"dishG\") \n",
    "event = readFile(\"eventId\") \n",
    "menu = readFile(\"menuG\") \n",
    "menu_item = readFile(\"menuItemG\") \n",
    "menu_page = readFile(\"menuPageG\") \n",
    "sponsor = readFile(\"sponsorId\") \n",
    "venue = readFile(\"venueId\") "
   ]
  },
  {
   "cell_type": "code",
   "execution_count": 8,
   "metadata": {},
   "outputs": [],
   "source": [
    "def addSQL(table, table_name): \n",
    "    cols = \"`,`\".join([str(i) for i in table.columns.tolist()]) \n",
    "    for i,row in table.iterrows():\n",
    "        sql = \"INSERT INTO `\" + table_name + \"` (`\" +cols + \"`) VALUES (\" + \"%s,\"*(len(row)-1) + \"%s)\"\n",
    "        cursor.execute(sql, tuple(row)) \n",
    "        connection.commit() "
   ]
  },
  {
   "cell_type": "code",
   "execution_count": 98,
   "metadata": {},
   "outputs": [],
   "source": [
    "addSQL(venue, \"venue\") "
   ]
  },
  {
   "cell_type": "code",
   "execution_count": 99,
   "metadata": {
    "scrolled": true
   },
   "outputs": [],
   "source": [
    "addSQL(sponsor, \"sponsor\") "
   ]
  },
  {
   "cell_type": "code",
   "execution_count": 102,
   "metadata": {},
   "outputs": [],
   "source": [
    "addSQL(event, \"event\") "
   ]
  },
  {
   "cell_type": "code",
   "execution_count": 100,
   "metadata": {},
   "outputs": [],
   "source": [
    "addSQL(currency, \"currency\") "
   ]
  },
  {
   "cell_type": "code",
   "execution_count": 103,
   "metadata": {},
   "outputs": [],
   "source": [
    "addSQL(menu, \"menu\") "
   ]
  },
  {
   "cell_type": "code",
   "execution_count": 104,
   "metadata": {},
   "outputs": [],
   "source": [
    "addSQL(dish, \"dish\") "
   ]
  },
  {
   "cell_type": "code",
   "execution_count": 156,
   "metadata": {},
   "outputs": [],
   "source": [
    "addSQL(menu_page, \"menu_page\")  "
   ]
  },
  {
   "cell_type": "code",
   "execution_count": 9,
   "metadata": {},
   "outputs": [],
   "source": [
    "addSQL(menu_item, \"menu_item\") "
   ]
  },
  {
   "cell_type": "code",
   "execution_count": null,
   "metadata": {},
   "outputs": [],
   "source": [
    "import os \n",
    "directoryDump = \"C:/Users/tiago/desktop/blogdown/dataBases/dump\" \n",
    "os.mkdir(directoryDump) "
   ]
  },
  {
   "cell_type": "code",
   "execution_count": 76,
   "metadata": {},
   "outputs": [],
   "source": [
    "def dumpSQL(table, table_name): \n",
    "    cols = \",\".join([str(i) for i in table.columns.tolist()]) \n",
    "    csvRows = table.to_csv(index = False, quoting=csv.QUOTE_NONNUMERIC).split(\"\\r\\n\")  \n",
    "    directoryDump = \"C:/Users/tiago/desktop/blogdown/dataBases/dump/\" \n",
    "    file = open(directoryDump + table_name + \".sql\", \"w\", encoding=\"utf-8\") \n",
    "    skipHeader = True \n",
    "    for index in range(len(csvRows)): \n",
    "        if skipHeader: \n",
    "            skipHeader = False \n",
    "            continue \n",
    "        sql = \"INSERT INTO \" + table_name + \" (\" + cols + \") VALUES (\" + csvRows[index] + \")\\n\"\n",
    "        file.write(sql) "
   ]
  },
  {
   "cell_type": "code",
   "execution_count": 79,
   "metadata": {},
   "outputs": [],
   "source": [
    "dumpSQL(venue, \"venue\")  "
   ]
  },
  {
   "cell_type": "code",
   "execution_count": 78,
   "metadata": {},
   "outputs": [],
   "source": [
    "dumpSQL(sponsor, \"sponsor\")  "
   ]
  },
  {
   "cell_type": "code",
   "execution_count": 80,
   "metadata": {},
   "outputs": [],
   "source": [
    "dumpSQL(event, \"event\") "
   ]
  },
  {
   "cell_type": "code",
   "execution_count": 81,
   "metadata": {},
   "outputs": [],
   "source": [
    "dumpSQL(currency, \"currency\")  "
   ]
  },
  {
   "cell_type": "code",
   "execution_count": 82,
   "metadata": {},
   "outputs": [],
   "source": [
    "dumpSQL(menu, \"menu\") "
   ]
  },
  {
   "cell_type": "code",
   "execution_count": 83,
   "metadata": {},
   "outputs": [],
   "source": [
    "dumpSQL(dish, \"dish\")  "
   ]
  },
  {
   "cell_type": "code",
   "execution_count": 84,
   "metadata": {},
   "outputs": [],
   "source": [
    "dumpSQL(menu_page, \"menu_page\") "
   ]
  },
  {
   "cell_type": "code",
   "execution_count": 85,
   "metadata": {},
   "outputs": [],
   "source": [
    "dumpSQL(menu_item, \"menu_item\")  "
   ]
  }
 ],
 "metadata": {
  "kernelspec": {
   "display_name": "Python 3",
   "language": "python",
   "name": "python3"
  },
  "language_info": {
   "codemirror_mode": {
    "name": "ipython",
    "version": 3
   },
   "file_extension": ".py",
   "mimetype": "text/x-python",
   "name": "python",
   "nbconvert_exporter": "python",
   "pygments_lexer": "ipython3",
   "version": "3.7.6"
  }
 },
 "nbformat": 4,
 "nbformat_minor": 4
}
